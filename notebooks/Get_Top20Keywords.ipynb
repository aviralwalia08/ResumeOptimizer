{
 "cells": [
  {
   "cell_type": "code",
   "execution_count": 1,
   "metadata": {
    "application/vnd.databricks.v1+cell": {
     "cellMetadata": {
      "byteLimit": 2048000,
      "rowLimit": 10000
     },
     "inputWidgets": {},
     "nuid": "4198a68c-79d6-493f-9437-0e4bb2c29bd7",
     "showTitle": false,
     "title": ""
    }
   },
   "outputs": [],
   "source": [
    "from langchain.output_parsers import StructuredOutputParser, ResponseSchema\n",
    "from langchain.prompts import PromptTemplate\n",
    "from langchain.output_parsers import StructuredOutputParser, ResponseSchema\n",
    "from datetime import datetime\n",
    "import numpy as np\n",
    "import re\n",
    "import pandas as pd\n",
    "import os\n",
    "import json\n",
    "import pandas as pd\n",
    "from datetime import datetime\n",
    "import os\n",
    "from langchain_openai import AzureChatOpenAI\n",
    "from langchain.prompts import PromptTemplate\n",
    "import json_repair\n"
   ]
  },
  {
   "cell_type": "code",
   "execution_count": 2,
   "metadata": {},
   "outputs": [],
   "source": [
    "def output_formatter(output:str):\n",
    "    extracted_json = re.search(r'```json\\n([\\s\\S]*?)\\n```', output.content)\n",
    "    if extracted_json:\n",
    "        json_string = extracted_json.group(1)\n",
    "    else:\n",
    "        json_string = \"[]\"  # Fallback to an empty JSON array in case the extraction fails\n",
    "\n",
    "    # Now, parse the extracted JSON string\n",
    "    data = json_repair.loads(f\"[{json_string}]\")\n",
    "    return(data)"
   ]
  },
  {
   "cell_type": "code",
   "execution_count": 3,
   "metadata": {},
   "outputs": [
    {
     "name": "stdout",
     "output_type": "stream",
     "text": [
      "The output should be a markdown code snippet formatted in the following schema, including the leading and trailing \"```json\" and \"```\":\n",
      "\n",
      "```json\n",
      "{\n",
      "\t\"HardSills\": string  // List of Hard Skill's keywords that are there in the Job Description\n",
      "\t\"SoftSkills\": string  // List of Soft Skill's keywords that are there in the Job Description\n",
      "}\n",
      "```\n"
     ]
    }
   ],
   "source": [
    "\n",
    "llm_chatopenai = AzureChatOpenAI(\n",
    "    api_key = 'ab40db4c57884de3bf7d8517677ab90e',\n",
    "    api_version = '2023-03-15-preview',\n",
    "    azure_endpoint = 'https://lucidmvpopenai.openai.azure.com/',\n",
    "    temperature = 0,\n",
    "    deployment_name = 'lucidpg'\n",
    "    )\n",
    "\n",
    "# response_schemas = [\n",
    "#     ResponseSchema(name=\"TopKeywords\", description=\"List of Top 10 keywords that are there in the Job Description\")\n",
    "# ]\n",
    "\n",
    "response_schemas = [\n",
    "    ResponseSchema(name=\"HardSills\", description=\"List of Hard Skill's keywords that are there in the Job Description\"),\n",
    "    ResponseSchema(name=\"SoftSkills\", description=\"List of Soft Skill's keywords that are there in the Job Description\")\n",
    "]\n",
    "\n",
    "# response_schemas = [\n",
    "#     ResponseSchema(name=\"Keywords_Found\", description=\"List of keywords that are found in the Resume and are also there in Job Description\"),\n",
    "#     ResponseSchema(name=\"Keywords_Missing\", description=\"List of keywords that are missing in the Resume and are also there in Job Description\")\n",
    "# ]\n",
    "\n",
    "# response_schemas = [\n",
    "#     ResponseSchema(name=\"Match_score\", description=\"Eligibility match score according to Resume and Job Description\")\n",
    "# ]\n",
    "\n",
    "output_parser = StructuredOutputParser.from_response_schemas(response_schemas)\n",
    "format_instructions = output_parser.get_format_instructions()\n",
    "\n",
    "print(format_instructions)"
   ]
  },
  {
   "cell_type": "code",
   "execution_count": 4,
   "metadata": {
    "application/vnd.databricks.v1+cell": {
     "cellMetadata": {
      "byteLimit": 2048000,
      "rowLimit": 10000
     },
     "inputWidgets": {},
     "nuid": "e72130e6-1f7f-4f7a-891b-2bfcc6ae3bf9",
     "showTitle": false,
     "title": ""
    }
   },
   "outputs": [],
   "source": [
    "industry = 'Data Science'\n",
    "Job_Profile = 'Data Scientist'\n",
    "Job_Description = \"\"\"\n",
    "We are currently looking for a new Intermediate Data Scientist, to join our Data Insights team and work closely with Clio’s products and business teams.\n",
    "\n",
    "You thrive on both analytical challenges and working closely with product development and customer-facing professionals. You will collaborate with everyone from product managers to business leaders and developers, and will guide rapid iterations of hypothesis, prioritization, experimentation / analysis and strategy setting – extract valuable insights, enhance our decision-making processes and contribute to the development of innovative financial products.\n",
    "\n",
    " \n",
    "\n",
    "The team:\n",
    "You will be working alongside a cross-functional team of data scientists, embedded within Clio’s products and business teams, developing AI and ML solutions to understand Clio’s customers, to bring them cutting-edge AI and GenAI products, and to recommend proactive and efficient ways to serve them better. You will play an integral role, enabling business leaders across Clio make rigorous data-driven decisions. You will help our business grow, help our customers succeed, and continuously improve the way we operate.\n",
    "\n",
    "\n",
    " \n",
    "\n",
    "Who you are:\n",
    "We aren’t looking for just any traditional Data Scientist to join this team. We’re looking for someone who takes data seriously, thrives in a rapid-growth, high-velocity environment, and lives and breathes our values. We’re looking for an innovator and a thought leader! We’re looking for someone who is:\n",
    "\n",
    "Passionate about driving growth empirically;\n",
    "\n",
    "Always looking to innovate with data and explore open-ended questions;\n",
    "\n",
    "Strategically minded and never shies away from a challenge;\n",
    "\n",
    "Self-motivated and able to work autonomously and collaboratively;\n",
    "\n",
    "Agile and responsive, and comfortable with constant change.\n",
    "\n",
    "You will help lay the foundation for this work by ensuring good data quality, data governance, and analytical practices. And you will also be part of our larger Data & AI team for learning, career development, and company-wide data initiatives.\n",
    "\n",
    "What you'll work on:\n",
    "Collaborate with the Clio products teams to refine business problems, develop hypotheses, and provide input that drives growth.\n",
    "\n",
    "Suggest new questions about our business, product, and customers that lead to impactful insights.\n",
    "\n",
    "Work with other team members to develop predictive AI and ML solutions and deploy them in production.\n",
    "\n",
    "Apply rigorous statistical analysis and data mining techniques to evaluate impact of different product features and other business initiatives.\n",
    "\n",
    "Employ statistical analysis, machine learning, GenAI, LLMs, etc. to unlock new product opportunities.\n",
    "\n",
    "Support scientific thinking in product and business teams by enabling discussions with data, disseminating best practices, and leading by example.\n",
    "\n",
    "Effectively communicate complex technical concepts and findings to both technical and non-technical audiences.\n",
    "\n",
    "What you may have:\n",
    "3+ years applied experience in data science.\n",
    "\n",
    "The ability to translate business requirements into data science solutions.\n",
    "\n",
    "Experience in developing analysis in Python and experience with relevant ML libraries and frameworks (e.g., pandas, PyTorch, scikit-learn)\n",
    "\n",
    "Strong team player mindset, while able to work under your own initiative and prioritize time and tasks effectively.\n",
    "\n",
    "Excellent written and verbal communication skills.\n",
    "\n",
    "Ability to write structured SQL queries for answering questions and manipulating data.\n",
    "\n",
    "Serious bonus points if you have:\n",
    "Understanding of SaaS business metrics and growth drivers.\n",
    "\n",
    "Experience with FinTech concepts.\n",
    "\n",
    "Experience in analytics working with product and user behavior data, e.g., retention or churn analysis\n",
    "\n",
    "Experience with building ML/AI pipelines and relevant tools (e.g., Kedro, MLFLow)\n",
    "\n",
    "Experience with large data sets and user behavior data.\n",
    "\n",
    "Experience with NLP and LLMs.\n",
    "\n",
    "A graduate degree in a relevant quantitative discipline (computer science, statistics, mathematics, physics, engineering) \n",
    "\n",
    "What you will find here:\n",
    "\n",
    "Compensation is one of the main components of Clio’s Total Rewards Program. We have developed a series of programs and processes to ensure we are creating fair and competitive pay practices that form the foundation of our human and high-performing culture.\n",
    " \n",
    "\n",
    "Some highlights of our Total Rewards program include:\n",
    "\n",
    "Competitive, equitable salary with top-tier health benefits, dental, and vision insurance \n",
    "\n",
    "Hybrid work environment, with expectation for local Clions (Vancouver, Calgary, Toronto, and Dublin) to be in office min. once per week on our Anchor Day. \n",
    "\n",
    "Flexible time off policy, with an encouraged 20 days off per year.\n",
    "\n",
    "$2000 annual counseling benefit\n",
    "\n",
    "RRSP matching and RESP contribution \n",
    "\n",
    "Clioversary recognition program with special acknowledgement at 3, 5, 7, and 10 years​\n",
    "\n",
    "The expected salary range* for this role is $106,500 to $144,200 CAD. Please note there are a separate set of salary bands for other regions based on local currency.\n",
    "*Our salary bands are designed to reflect the range of skills and experience needed for the position and to allow room for growth at Clio. For experienced individuals, we typically hire at or around the midpoint of the band. The top portion of the salary band is reserved for employees who demonstrate sustained high performance and impact at Clio. Those who are new to the role may join below the midpoint and develop their skills over time. The final offer amount for this role will be dependent on geographical region, applicable experience, and skillset of the candidate.\n",
    "\n",
    "Diversity, Inclusion, Belonging and Equity (DIBE) & Accessibility \n",
    "\n",
    "Our team shows up as their authentic selves, and are united by our mission. We are dedicated to diversity, equity and inclusion. We pride ourselves in building and fostering an environment where our teams feel included, valued, and enabled to do the best work of their careers, wherever they choose to log in from. We believe that different perspectives, skills, backgrounds, and experiences result in higher-performing teams and better innovation. We are committed to equal employment and we encourage candidates from all backgrounds to apply.\n",
    "\n",
    "Clio provides accessibility accommodations during the recruitment process. Should you require any accommodation, please let us know and we will work with you to meet your needs.\"\"\""
   ]
  },
  {
   "cell_type": "code",
   "execution_count": 5,
   "metadata": {},
   "outputs": [],
   "source": [
    "resume = \"\"\"\n",
    "Aviral Walia\n",
    "\n",
    "Contact Information:\n",
    "\n",
    "Address: 123 Main St, Toronto, ON M1X 1Y2\n",
    "Phone: (123) 456-7890\n",
    "Email: aviral.walia@example.com\n",
    "LinkedIn: linkedin.com/in/aviralwalia\n",
    "Professional Summary:\n",
    "Results-driven Data Scientist with 5 years of experience in technology and financial services. Proficient in Python, SQL, and machine learning techniques. Demonstrated ability to improve efficiency and enhance predictive models. Seeking to leverage analytical skills and expertise to drive data-driven decision-making.\n",
    "\n",
    "Professional Experience:\n",
    "\n",
    "Senior Data Scientist\n",
    "ZENON AI, Toronto, ON\n",
    "Jan 2021 – Present\n",
    "\n",
    "Developed and deployed machine learning models to predict customer behavior, resulting in a 20% increase in retention rates.\n",
    "Improved data processing efficiency by 30% through the implementation of advanced data pipelines.\n",
    "Collaborated with cross-functional teams to develop credit risk models, reducing default rates by 15%.\n",
    "Data Analyst\n",
    "EXL Services, Toronto, ON\n",
    "Jul 2018 – Dec 2020\n",
    "\n",
    "Conducted data analysis to support business strategy and decision-making processes.\n",
    "Automated reporting processes, reducing manual reporting time by 40%.\n",
    "Built and maintained dashboards to track key performance indicators (KPIs).\n",
    "Education:\n",
    "\n",
    "Master of Science in Big Data Analytics\n",
    "Trent University, Peterborough, ON\n",
    "Expected Graduation: 2024\n",
    "\n",
    "Bachelor of Technology in Computer Science\n",
    "Chitkara University, Punjab, India\n",
    "2018\n",
    "\n",
    "Skills:\n",
    "\n",
    "Programming Languages: Python, SQL\n",
    "Data Analysis: Excel, VBA, Tableau\n",
    "Machine Learning: Scikit-learn, TensorFlow\n",
    "Data Processing: Pandas, NumPy\n",
    "Tools: Elastic Search, NLP\n",
    "Certifications:\n",
    "\n",
    "Certified Data Scientist, Data Science Council of America (DASCA)\n",
    "Projects:\n",
    "\n",
    "Resume Optimizer: Developed an intelligent system using the LangChain framework to assess and enhance resumes based on job descriptions.\"\"\""
   ]
  },
  {
   "cell_type": "code",
   "execution_count": 6,
   "metadata": {},
   "outputs": [],
   "source": [
    "resume_marketing = \"\"\" \n",
    "Aviral Walia\n",
    "\n",
    "Contact Information:\n",
    "\n",
    "Address: 789 Market St, Toronto, ON M3B 2S5\n",
    "Phone: (123) 456-7890\n",
    "Email: aviral.walia@example.com\n",
    "LinkedIn: linkedin.com/in/aviralwalia\n",
    "Professional Summary:\n",
    "Insightful and analytical Market Researcher with over 4 years of experience in gathering, analyzing, and interpreting data to help companies make informed business decisions. Proficient in statistical analysis, survey design, and data visualization. Strong background in consumer behavior, market trends, and competitive analysis. Seeking to leverage my skills and expertise to drive data-driven strategies and business growth.\n",
    "\n",
    "Professional Experience:\n",
    "\n",
    "Market Research Analyst\n",
    "ABC Market Solutions, Toronto, ON\n",
    "Jan 2021 – Present\n",
    "\n",
    "Conducted primary and secondary research to gather market intelligence on consumer preferences and industry trends.\n",
    "Designed and administered surveys and questionnaires to collect quantitative and qualitative data.\n",
    "Analyzed data using statistical software (SPSS, R) and presented findings to stakeholders through comprehensive reports and visualizations.\n",
    "Identified market opportunities and provided actionable insights that contributed to a 15% increase in client sales.\n",
    "Assistant Market Researcher\n",
    "XYZ Insights, Toronto, ON\n",
    "Jul 2018 – Dec 2020\n",
    "\n",
    "Assisted in the design and execution of research projects, including data collection, analysis, and reporting.\n",
    "Monitored and analyzed competitors' marketing strategies and performance metrics.\n",
    "Developed and maintained databases of market research information and client contacts.\n",
    "Supported senior researchers in preparing presentations and delivering insights to clients.\n",
    "Education:\n",
    "\n",
    "Bachelor of Science in Marketing\n",
    "University of Toronto, Toronto, ON\n",
    "2018\n",
    "\n",
    "Skills:\n",
    "\n",
    "Market Research: Survey Design, Data Collection, Competitive Analysis\n",
    "Data Analysis: SPSS, R, Excel\n",
    "Data Visualization: Tableau, Power BI\n",
    "Statistical Analysis: Regression Analysis, Factor Analysis, Cluster Analysis\n",
    "Communication: Report Writing, Presentation Skills\n",
    "Certifications:\n",
    "\n",
    "Certified Market Research Professional (CMRP)\n",
    "Projects:\n",
    "\n",
    "Consumer Behavior Study: Led a study on consumer behavior in the e-commerce sector, identifying key factors influencing purchase decisions and providing recommendations to improve customer retention.\n",
    "Market Entry Analysis: Conducted a market entry analysis for a new product line, assessing market size, competition, and potential barriers, resulting in a successful product launch.\n",
    "Brand Perception Survey: Designed and executed a brand perception survey for a leading retail company, analyzing customer feedback and suggesting strategies to enhance brand image.\"\"\""
   ]
  },
  {
   "cell_type": "markdown",
   "metadata": {},
   "source": [
    "### Top Keywords JD"
   ]
  },
  {
   "cell_type": "code",
   "execution_count": 15,
   "metadata": {
    "application/vnd.databricks.v1+cell": {
     "cellMetadata": {
      "byteLimit": 2048000,
      "rowLimit": 10000
     },
     "inputWidgets": {},
     "nuid": "4751a93b-804f-4f67-a850-922d5a8cd0bf",
     "showTitle": false,
     "title": ""
    }
   },
   "outputs": [
    {
     "name": "stdout",
     "output_type": "stream",
     "text": [
      "[{'TopKeywords': ['Data Scientist', 'AI', 'ML', 'Python', 'SQL', 'FinTech', 'Analytics', 'Statistical Analysis', 'Data Mining', 'Product Development', 'Customer-facing', 'Data Quality', 'Data Governance', 'GenAI', 'LLMs', 'Communication Skills', 'Team Player', 'Flexible Time Off', 'Diversity', 'Inclusion']}]\n"
     ]
    }
   ],
   "source": [
    "\n",
    "rel_base_prompt_data = '''Act as a {industry} industry Hiring manager.For a {Job_Profile} Job Profile, Given is the Job Description {Job_Description}.Extract the List of Top 20 Keywords from the given Job Description that should be in the cadidates resume to get shortlisted for the Job .\\n{format_instructions}.\\n'''\n",
    "\n",
    "prompt = PromptTemplate(\n",
    "    template = rel_base_prompt_data,\n",
    "    input_variables=[\"industry\" ,\"Job_Profile\",\"Job_Description\"],\n",
    "    partial_variables={\"format_instructions\": format_instructions}\n",
    ")\n",
    "\n",
    "_input = prompt.format_prompt(industry=industry,Job_Profile = Job_Profile,Job_Description = Job_Description)\n",
    "output = llm_chatopenai(_input.to_messages())\n",
    "keywords_JD = output_formatter(output)\n",
    "print(keywords_JD)\n"
   ]
  },
  {
   "cell_type": "markdown",
   "metadata": {},
   "source": [
    "### Top Keywords Resume"
   ]
  },
  {
   "cell_type": "code",
   "execution_count": 14,
   "metadata": {},
   "outputs": [
    {
     "name": "stdout",
     "output_type": "stream",
     "text": [
      "[{'TopKeywords': ['Market Research', 'Data Analysis', 'Data Visualization', 'Statistical Analysis', 'Consumer Behavior', 'Survey Design', 'Competitive Analysis', 'SPSS', 'R', 'Report Writing', 'Presentation Skills', 'Certified Market Research Professional', 'Market Intelligence', 'Industry Trends', 'Quantitative Data', 'Qualitative Data', 'Market Opportunities', 'Actionable Insights', 'Brand Perception', 'Customer Retention']}]\n"
     ]
    }
   ],
   "source": [
    "rel_base_prompt_data = '''Act as a {industry} industry Hiring manager.For a {Job_Profile} Job Profile, Given is the Resume {resume}.Extract the List of Top 20 Keywords from the given Resume that are there in the cadidates resume to get shortlisted for the Job .\\n{format_instructions}.\\n'''\n",
    "\n",
    "prompt = PromptTemplate(\n",
    "    template = rel_base_prompt_data,\n",
    "    input_variables=[\"industry\" ,\"Job_Profile\" ,\"resume\"],\n",
    "    partial_variables={\"format_instructions\": format_instructions}\n",
    ")\n",
    "\n",
    "_input = prompt.format_prompt(industry=industry,Job_Profile = Job_Profile, resume = resume_marketing)\n",
    "output = llm_chatopenai(_input.to_messages())\n",
    "keywords_resume = output_formatter(output)\n",
    "print(keywords_resume)"
   ]
  },
  {
   "cell_type": "markdown",
   "metadata": {},
   "source": [
    "### Hard Skills & Soft Skills JD"
   ]
  },
  {
   "cell_type": "code",
   "execution_count": 7,
   "metadata": {},
   "outputs": [
    {
     "name": "stderr",
     "output_type": "stream",
     "text": [
      "c:\\Users\\avira\\OneDrive - Trent University\\Desktop\\Final Project\\ResumeOptimizer\\venv\\lib\\site-packages\\langchain_core\\_api\\deprecation.py:139: LangChainDeprecationWarning: The method `BaseChatModel.__call__` was deprecated in langchain-core 0.1.7 and will be removed in 0.3.0. Use invoke instead.\n",
      "  warn_deprecated(\n"
     ]
    },
    {
     "name": "stdout",
     "output_type": "stream",
     "text": [
      "[{'HardSkills': ['data science', 'Python', 'ML libraries', 'pandas', 'PyTorch', 'scikit-learn', 'SQL', 'SaaS business metrics', 'FinTech concepts', 'analytics', 'user behavior data', 'retention analysis', 'churn analysis', 'ML/AI pipelines', 'Kedro', 'MLFLow', 'large data sets', 'NLP', 'LLMs', 'computer science', 'statistics', 'mathematics', 'physics', 'engineering'], 'SoftSkills': ['analytical', 'collaborative', 'innovative', 'self-motivated', 'agile', 'responsive', 'excellent communication', 'team player', 'prioritization', 'flexibility', 'adaptability', 'problem-solving', 'strategic thinking']}]\n"
     ]
    }
   ],
   "source": [
    "rel_base_prompt_data_2 = '''Act as a {industry} industry Hiring manager.For a {Job_Profile} Job Profile, Given is the Job Description {Job_Description}.Extract the list of all hard skills and soft skills keywords from the given Job Description that should be in the cadidates resume to get shortlisted for the Job .\\n{format_instructions}.\\n'''\n",
    "\n",
    "prompt = PromptTemplate(\n",
    "    template = rel_base_prompt_data_2,\n",
    "    input_variables=[\"industry\" ,\"Job_Profile\",\"Job_Description\"],\n",
    "    partial_variables={\"format_instructions\": format_instructions}\n",
    ")\n",
    "\n",
    "_input = prompt.format_prompt(industry=industry,Job_Profile = Job_Profile,Job_Description = Job_Description)\n",
    "output = llm_chatopenai(_input.to_messages())\n",
    "hss_JD = output_formatter(output)\n",
    "print(hss_JD)\n"
   ]
  },
  {
   "cell_type": "code",
   "execution_count": 12,
   "metadata": {},
   "outputs": [
    {
     "data": {
      "text/plain": [
       "(['data science',\n",
       "  'Python',\n",
       "  'ML libraries',\n",
       "  'pandas',\n",
       "  'PyTorch',\n",
       "  'scikit-learn',\n",
       "  'SQL',\n",
       "  'SaaS business metrics',\n",
       "  'FinTech concepts',\n",
       "  'analytics',\n",
       "  'user behavior data',\n",
       "  'retention analysis',\n",
       "  'churn analysis',\n",
       "  'ML/AI pipelines',\n",
       "  'Kedro',\n",
       "  'MLFLow',\n",
       "  'large data sets',\n",
       "  'NLP',\n",
       "  'LLMs',\n",
       "  'computer science',\n",
       "  'statistics',\n",
       "  'mathematics',\n",
       "  'physics',\n",
       "  'engineering'],\n",
       " ['analytical',\n",
       "  'collaborative',\n",
       "  'innovative',\n",
       "  'self-motivated',\n",
       "  'agile',\n",
       "  'responsive',\n",
       "  'excellent communication',\n",
       "  'team player',\n",
       "  'prioritization',\n",
       "  'flexibility',\n",
       "  'adaptability',\n",
       "  'problem-solving',\n",
       "  'strategic thinking'])"
      ]
     },
     "execution_count": 12,
     "metadata": {},
     "output_type": "execute_result"
    }
   ],
   "source": [
    "hss_JD[0]['HardSkills'] , hss_JD[0]['SoftSkills']"
   ]
  },
  {
   "cell_type": "markdown",
   "metadata": {},
   "source": [
    "### Hard Skills & Soft Skills Resume"
   ]
  },
  {
   "cell_type": "code",
   "execution_count": 8,
   "metadata": {},
   "outputs": [
    {
     "name": "stdout",
     "output_type": "stream",
     "text": [
      "[{'HardSkills': ['Market Research', 'Survey Design', 'Data Collection', 'Competitive Analysis', 'SPSS', 'R', 'Excel', 'Tableau', 'Power BI', 'Regression Analysis', 'Factor Analysis', 'Cluster Analysis'], 'SoftSkills': ['Communication', 'Report Writing', 'Presentation Skills']}]\n"
     ]
    }
   ],
   "source": [
    "rel_base_prompt_data_2 = '''Act as a {industry} industry Hiring manager.For a {Job_Profile} Job Profile, Given is the Resume {resume}.Extract the list of all hard skills and soft skills keywords from the given Resume that are in the cadidates resume to get shortlisted for the Job .\\n{format_instructions}.\\n'''\n",
    "\n",
    "prompt = PromptTemplate(\n",
    "    template = rel_base_prompt_data_2,\n",
    "    input_variables=[\"industry\" ,\"Job_Profile\",\"Job_Description\"],\n",
    "    partial_variables={\"format_instructions\": format_instructions}\n",
    ")\n",
    "\n",
    "_input = prompt.format_prompt(industry=industry,Job_Profile = Job_Profile,resume = resume_marketing)\n",
    "output = llm_chatopenai(_input.to_messages())\n",
    "hss_Res = output_formatter(output)\n",
    "print(hss_Res)\n"
   ]
  },
  {
   "cell_type": "code",
   "execution_count": 11,
   "metadata": {},
   "outputs": [
    {
     "data": {
      "text/plain": [
       "(['Market Research',\n",
       "  'Survey Design',\n",
       "  'Data Collection',\n",
       "  'Competitive Analysis',\n",
       "  'SPSS',\n",
       "  'R',\n",
       "  'Excel',\n",
       "  'Tableau',\n",
       "  'Power BI',\n",
       "  'Regression Analysis',\n",
       "  'Factor Analysis',\n",
       "  'Cluster Analysis'],\n",
       " ['Communication', 'Report Writing', 'Presentation Skills'])"
      ]
     },
     "execution_count": 11,
     "metadata": {},
     "output_type": "execute_result"
    }
   ],
   "source": [
    "hss_Res[0]['HardSkills'] , hss_Res[0]['SoftSkills']"
   ]
  },
  {
   "cell_type": "markdown",
   "metadata": {},
   "source": [
    "### Keywords Found - Keywords Missing"
   ]
  },
  {
   "cell_type": "code",
   "execution_count": 7,
   "metadata": {},
   "outputs": [
    {
     "name": "stdout",
     "output_type": "stream",
     "text": [
      "content='```json\\n{\\n\\t\"Keywords_Found\": \"data scientist, analytical, product development, collaboration, hypothesis, experimentation, strategy, insights, decision-making, AI, ML, business leaders, growth, innovation, data quality, data governance, SQL, SaaS, FinTech, analytics, user behavior, statistical analysis, machine learning, NLP, LLMs, Python, pandas, PyTorch, scikit-learn, communication\",\\n\\t\"Keywords_Missing\": \"intermediate, Clio, team, cross-functional, GenAI, predictive, Kedro, MLFLow, quantitative, compensation, Total Rewards, equity, accessibility\"\\n}\\n```' response_metadata={'token_usage': {'completion_tokens': 134, 'prompt_tokens': 1880, 'total_tokens': 2014}, 'model_name': 'gpt-35-turbo', 'system_fingerprint': None, 'finish_reason': 'stop', 'logprobs': None, 'content_filter_results': {}} id='run-b083ed10-1579-47c0-81b8-bfb0ff321415-0' usage_metadata={'input_tokens': 1880, 'output_tokens': 134, 'total_tokens': 2014}\n"
     ]
    }
   ],
   "source": [
    "\n",
    "rel_base_prompt_data_2 = '''\n",
    "Act as an Keyword or text Matcher of Resumes.For the {Job_Profile} position. Given the Job Description: {Job_Description} and the Resume: {resume}, perform the following tasks:\n",
    "1. Extract and list all keywords found in both the resume and the job description.\n",
    "2. Extract and list all keywords present in the job description but missing from the resume.\n",
    "Make sure you only output both the lists and nothing else in pre or post and the keywords found should be from Resume and Keywords missing should be from Job Description only.\n",
    "Provide the results in the following format: \n",
    "{format_instructions}\n",
    "'''\n",
    "\n",
    "prompt = PromptTemplate(\n",
    "    template = rel_base_prompt_data_2,\n",
    "    input_variables=[\"industry\" ,\"Job_Profile\",\"Job_Description\",\"resume\"],\n",
    "    partial_variables={\"format_instructions\": format_instructions}\n",
    ")\n",
    "\n",
    "_input = prompt.format_prompt(industry=industry,Job_Profile = Job_Profile,Job_Description = Job_Description, resume = resume_marketing)\n",
    "output = llm_chatopenai(_input.to_messages())\n",
    "key_mis_foun = output_formatter(output)\n",
    "print(key_mis_foun)"
   ]
  },
  {
   "cell_type": "markdown",
   "metadata": {},
   "source": [
    "### Match Score"
   ]
  },
  {
   "cell_type": "code",
   "execution_count": 18,
   "metadata": {},
   "outputs": [
    {
     "name": "stdout",
     "output_type": "stream",
     "text": [
      "content='```json\\n{\\n\\t\"Match_score\": \"60\"  \\n}\\n```' response_metadata={'token_usage': {'completion_tokens': 15, 'prompt_tokens': 1824, 'total_tokens': 1839}, 'model_name': 'gpt-35-turbo', 'system_fingerprint': None, 'finish_reason': 'stop', 'logprobs': None, 'content_filter_results': {}} id='run-6d3babc6-fa15-4cf3-98cd-f3d3a0470563-0' usage_metadata={'input_tokens': 1824, 'output_tokens': 15, 'total_tokens': 1839}\n"
     ]
    }
   ],
   "source": [
    "rel_base_prompt_data_2 = '''\n",
    "Act as an Keyword or text Matcher of Resumes.For the {Job_Profile} position. Given the Job Description: {Job_Description} and the Resume: {resume}, perform the following tasks:\n",
    "1. Based on the text matching , skills matching and other job requirements ,calculate a match score ranging between 0-100 that tells how eligible a candidate is for the given Job.\n",
    "Make sure you only output a score.\n",
    "Provide the results in the following format: \n",
    "{format_instructions}\n",
    "'''\n",
    "\n",
    "prompt = PromptTemplate(\n",
    "    template = rel_base_prompt_data_2,\n",
    "    input_variables=[\"industry\" ,\"Job_Profile\",\"Job_Description\",\"resume\"],\n",
    "    partial_variables={\"format_instructions\": format_instructions}\n",
    ")\n",
    "\n",
    "_input = prompt.format_prompt(industry=industry,Job_Profile = Job_Profile,Job_Description = Job_Description, resume = resume_marketing)\n",
    "output = llm_chatopenai(_input.to_messages())\n",
    "match_score = output_formatter(output)\n",
    "print(match_score)"
   ]
  }
 ],
 "metadata": {
  "application/vnd.databricks.v1+notebook": {
   "dashboards": [],
   "environmentMetadata": null,
   "language": "python",
   "notebookMetadata": {
    "pythonIndentUnit": 4
   },
   "notebookName": "Get_Top20Keywords",
   "widgets": {}
  },
  "kernelspec": {
   "display_name": "Python 3",
   "language": "python",
   "name": "python3"
  },
  "language_info": {
   "codemirror_mode": {
    "name": "ipython",
    "version": 3
   },
   "file_extension": ".py",
   "mimetype": "text/x-python",
   "name": "python",
   "nbconvert_exporter": "python",
   "pygments_lexer": "ipython3",
   "version": "3.9.0"
  }
 },
 "nbformat": 4,
 "nbformat_minor": 0
}

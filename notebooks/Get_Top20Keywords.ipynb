{
 "cells": [
  {
   "cell_type": "code",
   "execution_count": 6,
   "metadata": {
    "application/vnd.databricks.v1+cell": {
     "cellMetadata": {
      "byteLimit": 2048000,
      "rowLimit": 10000
     },
     "inputWidgets": {},
     "nuid": "4198a68c-79d6-493f-9437-0e4bb2c29bd7",
     "showTitle": false,
     "title": ""
    }
   },
   "outputs": [],
   "source": [
    "from langchain.output_parsers import StructuredOutputParser, ResponseSchema\n",
    "from langchain.prompts import PromptTemplate\n",
    "from langchain.output_parsers import StructuredOutputParser, ResponseSchema\n",
    "from datetime import datetime\n",
    "import numpy as np\n",
    "import re\n",
    "import pandas as pd\n",
    "import os\n",
    "import json\n",
    "import pandas as pd\n",
    "from datetime import datetime\n",
    "import os\n",
    "from langchain_openai import AzureChatOpenAI\n",
    "from langchain.prompts import PromptTemplate\n",
    "import json_repair\n"
   ]
  },
  {
   "cell_type": "code",
   "execution_count": 7,
   "metadata": {},
   "outputs": [
    {
     "name": "stdout",
     "output_type": "stream",
     "text": [
      "The output should be a markdown code snippet formatted in the following schema, including the leading and trailing \"```json\" and \"```\":\n",
      "\n",
      "```json\n",
      "{\n",
      "\t\"HardSills\": string  // List of Hard Skill's keywords that are there in the Job Description\n",
      "\t\"SoftSkills\": string  // List of Soft Skill's keywords that are there in the Job Description\n",
      "}\n",
      "```\n"
     ]
    }
   ],
   "source": [
    "\n",
    "llm_chatopenai = AzureChatOpenAI(\n",
    "    api_key = 'ab40db4c57884de3bf7d8517677ab90e',\n",
    "    api_version = '2023-03-15-preview',\n",
    "    azure_endpoint = 'https://lucidmvpopenai.openai.azure.com/',\n",
    "    temperature = 0,\n",
    "    deployment_name = 'lucidpg'\n",
    "    )\n",
    "\n",
    "# response_schemas = [\n",
    "#     ResponseSchema(name=\"TopKeywords\", description=\"List of Top 10 keywords that are there in the Job Description\")\n",
    "# ]\n",
    "\n",
    "response_schemas = [\n",
    "    ResponseSchema(name=\"HardSills\", description=\"List of Hard Skill's keywords that are there in the Job Description\"),\n",
    "    ResponseSchema(name=\"SoftSkills\", description=\"List of Soft Skill's keywords that are there in the Job Description\")\n",
    "]\n",
    "\n",
    "output_parser = StructuredOutputParser.from_response_schemas(response_schemas)\n",
    "format_instructions = output_parser.get_format_instructions()\n",
    "\n",
    "print(format_instructions)"
   ]
  },
  {
   "cell_type": "code",
   "execution_count": 8,
   "metadata": {
    "application/vnd.databricks.v1+cell": {
     "cellMetadata": {
      "byteLimit": 2048000,
      "rowLimit": 10000
     },
     "inputWidgets": {},
     "nuid": "e72130e6-1f7f-4f7a-891b-2bfcc6ae3bf9",
     "showTitle": false,
     "title": ""
    }
   },
   "outputs": [],
   "source": [
    "industry = 'Data Science'\n",
    "Job_Profile = 'Data Scientist'\n",
    "Job_Description = \"\"\"\n",
    "We are currently looking for a new Intermediate Data Scientist, to join our Data Insights team and work closely with Clio’s products and business teams.\n",
    "\n",
    "You thrive on both analytical challenges and working closely with product development and customer-facing professionals. You will collaborate with everyone from product managers to business leaders and developers, and will guide rapid iterations of hypothesis, prioritization, experimentation / analysis and strategy setting – extract valuable insights, enhance our decision-making processes and contribute to the development of innovative financial products.\n",
    "\n",
    " \n",
    "\n",
    "The team:\n",
    "You will be working alongside a cross-functional team of data scientists, embedded within Clio’s products and business teams, developing AI and ML solutions to understand Clio’s customers, to bring them cutting-edge AI and GenAI products, and to recommend proactive and efficient ways to serve them better. You will play an integral role, enabling business leaders across Clio make rigorous data-driven decisions. You will help our business grow, help our customers succeed, and continuously improve the way we operate.\n",
    "\n",
    "\n",
    " \n",
    "\n",
    "Who you are:\n",
    "We aren’t looking for just any traditional Data Scientist to join this team. We’re looking for someone who takes data seriously, thrives in a rapid-growth, high-velocity environment, and lives and breathes our values. We’re looking for an innovator and a thought leader! We’re looking for someone who is:\n",
    "\n",
    "Passionate about driving growth empirically;\n",
    "\n",
    "Always looking to innovate with data and explore open-ended questions;\n",
    "\n",
    "Strategically minded and never shies away from a challenge;\n",
    "\n",
    "Self-motivated and able to work autonomously and collaboratively;\n",
    "\n",
    "Agile and responsive, and comfortable with constant change.\n",
    "\n",
    "You will help lay the foundation for this work by ensuring good data quality, data governance, and analytical practices. And you will also be part of our larger Data & AI team for learning, career development, and company-wide data initiatives.\n",
    "\n",
    "What you'll work on:\n",
    "Collaborate with the Clio products teams to refine business problems, develop hypotheses, and provide input that drives growth.\n",
    "\n",
    "Suggest new questions about our business, product, and customers that lead to impactful insights.\n",
    "\n",
    "Work with other team members to develop predictive AI and ML solutions and deploy them in production.\n",
    "\n",
    "Apply rigorous statistical analysis and data mining techniques to evaluate impact of different product features and other business initiatives.\n",
    "\n",
    "Employ statistical analysis, machine learning, GenAI, LLMs, etc. to unlock new product opportunities.\n",
    "\n",
    "Support scientific thinking in product and business teams by enabling discussions with data, disseminating best practices, and leading by example.\n",
    "\n",
    "Effectively communicate complex technical concepts and findings to both technical and non-technical audiences.\n",
    "\n",
    "What you may have:\n",
    "3+ years applied experience in data science.\n",
    "\n",
    "The ability to translate business requirements into data science solutions.\n",
    "\n",
    "Experience in developing analysis in Python and experience with relevant ML libraries and frameworks (e.g., pandas, PyTorch, scikit-learn)\n",
    "\n",
    "Strong team player mindset, while able to work under your own initiative and prioritize time and tasks effectively.\n",
    "\n",
    "Excellent written and verbal communication skills.\n",
    "\n",
    "Ability to write structured SQL queries for answering questions and manipulating data.\n",
    "\n",
    "Serious bonus points if you have:\n",
    "Understanding of SaaS business metrics and growth drivers.\n",
    "\n",
    "Experience with FinTech concepts.\n",
    "\n",
    "Experience in analytics working with product and user behavior data, e.g., retention or churn analysis\n",
    "\n",
    "Experience with building ML/AI pipelines and relevant tools (e.g., Kedro, MLFLow)\n",
    "\n",
    "Experience with large data sets and user behavior data.\n",
    "\n",
    "Experience with NLP and LLMs.\n",
    "\n",
    "A graduate degree in a relevant quantitative discipline (computer science, statistics, mathematics, physics, engineering) \n",
    "\n",
    "What you will find here:\n",
    "\n",
    "Compensation is one of the main components of Clio’s Total Rewards Program. We have developed a series of programs and processes to ensure we are creating fair and competitive pay practices that form the foundation of our human and high-performing culture.\n",
    " \n",
    "\n",
    "Some highlights of our Total Rewards program include:\n",
    "\n",
    "Competitive, equitable salary with top-tier health benefits, dental, and vision insurance \n",
    "\n",
    "Hybrid work environment, with expectation for local Clions (Vancouver, Calgary, Toronto, and Dublin) to be in office min. once per week on our Anchor Day. \n",
    "\n",
    "Flexible time off policy, with an encouraged 20 days off per year.\n",
    "\n",
    "$2000 annual counseling benefit\n",
    "\n",
    "RRSP matching and RESP contribution \n",
    "\n",
    "Clioversary recognition program with special acknowledgement at 3, 5, 7, and 10 years​\n",
    "\n",
    "The expected salary range* for this role is $106,500 to $144,200 CAD. Please note there are a separate set of salary bands for other regions based on local currency.\n",
    "*Our salary bands are designed to reflect the range of skills and experience needed for the position and to allow room for growth at Clio. For experienced individuals, we typically hire at or around the midpoint of the band. The top portion of the salary band is reserved for employees who demonstrate sustained high performance and impact at Clio. Those who are new to the role may join below the midpoint and develop their skills over time. The final offer amount for this role will be dependent on geographical region, applicable experience, and skillset of the candidate.\n",
    "\n",
    "Diversity, Inclusion, Belonging and Equity (DIBE) & Accessibility \n",
    "\n",
    "Our team shows up as their authentic selves, and are united by our mission. We are dedicated to diversity, equity and inclusion. We pride ourselves in building and fostering an environment where our teams feel included, valued, and enabled to do the best work of their careers, wherever they choose to log in from. We believe that different perspectives, skills, backgrounds, and experiences result in higher-performing teams and better innovation. We are committed to equal employment and we encourage candidates from all backgrounds to apply.\n",
    "\n",
    "Clio provides accessibility accommodations during the recruitment process. Should you require any accommodation, please let us know and we will work with you to meet your needs.\"\"\""
   ]
  },
  {
   "cell_type": "markdown",
   "metadata": {},
   "source": [
    "### Top Keywords"
   ]
  },
  {
   "cell_type": "code",
   "execution_count": 13,
   "metadata": {
    "application/vnd.databricks.v1+cell": {
     "cellMetadata": {
      "byteLimit": 2048000,
      "rowLimit": 10000
     },
     "inputWidgets": {},
     "nuid": "4751a93b-804f-4f67-a850-922d5a8cd0bf",
     "showTitle": false,
     "title": ""
    }
   },
   "outputs": [
    {
     "name": "stdout",
     "output_type": "stream",
     "text": [
      "content='```json\\n{\\n\\t\"TopKeywords\": [\\n\\t\\t\"Data Scientist\",\\n\\t\\t\"AI\",\\n\\t\\t\"ML\",\\n\\t\\t\"Python\",\\n\\t\\t\"SQL\",\\n\\t\\t\"FinTech\",\\n\\t\\t\"Analytics\",\\n\\t\\t\"Statistical Analysis\",\\n\\t\\t\"Data Mining\",\\n\\t\\t\"Product Development\",\\n\\t\\t\"Customer-Facing\",\\n\\t\\t\"Data Quality\",\\n\\t\\t\"Data Governance\",\\n\\t\\t\"GenAI\",\\n\\t\\t\"LLMs\",\\n\\t\\t\"Communication Skills\",\\n\\t\\t\"SaaS\",\\n\\t\\t\"User Behavior Data\",\\n\\t\\t\"NLP\",\\n\\t\\t\"Quantitative Discipline\"\\n\\t]\\n}\\n```' response_metadata={'token_usage': {'completion_tokens': 131, 'prompt_tokens': 1303, 'total_tokens': 1434}, 'model_name': 'gpt-35-turbo', 'system_fingerprint': None, 'finish_reason': 'stop', 'logprobs': None, 'content_filter_results': {}} id='run-20611933-6065-452a-98a9-e789bc813ec8-0' usage_metadata={'input_tokens': 1303, 'output_tokens': 131, 'total_tokens': 1434}\n"
     ]
    }
   ],
   "source": [
    "\n",
    "rel_base_prompt_data = '''Act as a {industry} industry Hiring manager.For a {Job_Profile} Job Profile, Given is the Job Description {Job_Description}.Extract the List of Top 20 Keywords from the given Job Description that should be in the cadidates resume to get shortlisted for the Job .\\n{format_instructions}.\\n'''\n",
    "\n",
    "prompt = PromptTemplate(\n",
    "    template = rel_base_prompt_data,\n",
    "    input_variables=[\"industry\" ,\"Job_Profile\",\"Job_Description\"],\n",
    "    partial_variables={\"format_instructions\": format_instructions}\n",
    ")\n",
    "\n",
    "_input = prompt.format_prompt(industry=industry,Job_Profile = Job_Profile,Job_Description = Job_Description)\n",
    "output = llm_chatopenai(_input.to_messages())\n",
    "print(output)\n"
   ]
  },
  {
   "cell_type": "markdown",
   "metadata": {},
   "source": [
    "### Hard Skills & Soft Skills"
   ]
  },
  {
   "cell_type": "code",
   "execution_count": 9,
   "metadata": {},
   "outputs": [
    {
     "name": "stdout",
     "output_type": "stream",
     "text": [
      "content='```json\\n{\\n\\t\"HardSkills\": [\\n\\t\\t\"data science\",\\n\\t\\t\"Python\",\\n\\t\\t\"ML libraries\",\\n\\t\\t\"pandas\",\\n\\t\\t\"PyTorch\",\\n\\t\\t\"scikit-learn\",\\n\\t\\t\"SQL\",\\n\\t\\t\"SaaS business metrics\",\\n\\t\\t\"FinTech concepts\",\\n\\t\\t\"analytics\",\\n\\t\\t\"user behavior data\",\\n\\t\\t\"retention analysis\",\\n\\t\\t\"churn analysis\",\\n\\t\\t\"ML/AI pipelines\",\\n\\t\\t\"Kedro\",\\n\\t\\t\"MLFLow\",\\n\\t\\t\"large data sets\",\\n\\t\\t\"NLP\",\\n\\t\\t\"LLMs\",\\n\\t\\t\"computer science\",\\n\\t\\t\"statistics\",\\n\\t\\t\"mathematics\",\\n\\t\\t\"physics\",\\n\\t\\t\"engineering\"\\n\\t],\\n\\t\"SoftSkills\": [\\n\\t\\t\"analytical\",\\n\\t\\t\"collaborative\",\\n\\t\\t\"innovative\",\\n\\t\\t\"self-motivated\",\\n\\t\\t\"agile\",\\n\\t\\t\"responsive\",\\n\\t\\t\"strategic\",\\n\\t\\t\"team player\",\\n\\t\\t\"prioritization\",\\n\\t\\t\"communication\"\\n\\t]\\n}\\n```' response_metadata={'token_usage': {'completion_tokens': 232, 'prompt_tokens': 1329, 'total_tokens': 1561}, 'model_name': 'gpt-35-turbo', 'system_fingerprint': None, 'finish_reason': 'stop', 'logprobs': None, 'content_filter_results': {}} id='run-055f0e23-20ec-4999-b458-e94b63454d5a-0' usage_metadata={'input_tokens': 1329, 'output_tokens': 232, 'total_tokens': 1561}\n"
     ]
    }
   ],
   "source": [
    "rel_base_prompt_data_2 = '''Act as a {industry} industry Hiring manager.For a {Job_Profile} Job Profile, Given is the Job Description {Job_Description}.Extract the list of all hard skills and soft skills keywords from the given Job Description that should be in the cadidates resume to get shortlisted for the Job .\\n{format_instructions}.\\n'''\n",
    "\n",
    "prompt = PromptTemplate(\n",
    "    template = rel_base_prompt_data_2,\n",
    "    input_variables=[\"industry\" ,\"Job_Profile\",\"Job_Description\"],\n",
    "    partial_variables={\"format_instructions\": format_instructions}\n",
    ")\n",
    "\n",
    "_input = prompt.format_prompt(industry=industry,Job_Profile = Job_Profile,Job_Description = Job_Description)\n",
    "output = llm_chatopenai(_input.to_messages())\n",
    "print(output)\n"
   ]
  },
  {
   "cell_type": "code",
   "execution_count": 10,
   "metadata": {
    "application/vnd.databricks.v1+cell": {
     "cellMetadata": {
      "byteLimit": 2048000,
      "rowLimit": 10000
     },
     "inputWidgets": {},
     "nuid": "6c2570ce-3211-4358-aaec-145442cf672d",
     "showTitle": false,
     "title": ""
    }
   },
   "outputs": [
    {
     "data": {
      "text/plain": [
       "[{'HardSkills': ['data science',\n",
       "   'Python',\n",
       "   'ML libraries',\n",
       "   'pandas',\n",
       "   'PyTorch',\n",
       "   'scikit-learn',\n",
       "   'SQL',\n",
       "   'SaaS business metrics',\n",
       "   'FinTech concepts',\n",
       "   'analytics',\n",
       "   'user behavior data',\n",
       "   'retention analysis',\n",
       "   'churn analysis',\n",
       "   'ML/AI pipelines',\n",
       "   'Kedro',\n",
       "   'MLFLow',\n",
       "   'large data sets',\n",
       "   'NLP',\n",
       "   'LLMs',\n",
       "   'computer science',\n",
       "   'statistics',\n",
       "   'mathematics',\n",
       "   'physics',\n",
       "   'engineering'],\n",
       "  'SoftSkills': ['analytical',\n",
       "   'collaborative',\n",
       "   'innovative',\n",
       "   'self-motivated',\n",
       "   'agile',\n",
       "   'responsive',\n",
       "   'strategic',\n",
       "   'team player',\n",
       "   'prioritization',\n",
       "   'communication']}]"
      ]
     },
     "execution_count": 10,
     "metadata": {},
     "output_type": "execute_result"
    }
   ],
   "source": [
    "extracted_json = re.search(r'```json\\n([\\s\\S]*?)\\n```', output.content)\n",
    "if extracted_json:\n",
    "    json_string = extracted_json.group(1)\n",
    "else:\n",
    "    json_string = \"[]\"  # Fallback to an empty JSON array in case the extraction fails\n",
    "\n",
    "# Now, parse the extracted JSON string\n",
    "data = json_repair.loads(f\"[{json_string}]\")\n",
    "data\n",
    "# # Create a DataFrame\n",
    "# df_cleaned = pd.DataFrame({item[\"TableName\"]: item[\"Columns\"] for item in data})\n",
    "# df_cleaned\n"
   ]
  },
  {
   "cell_type": "code",
   "execution_count": null,
   "metadata": {},
   "outputs": [],
   "source": []
  }
 ],
 "metadata": {
  "application/vnd.databricks.v1+notebook": {
   "dashboards": [],
   "environmentMetadata": null,
   "language": "python",
   "notebookMetadata": {
    "pythonIndentUnit": 4
   },
   "notebookName": "Get_Top20Keywords",
   "widgets": {}
  },
  "kernelspec": {
   "display_name": "Python 3",
   "language": "python",
   "name": "python3"
  },
  "language_info": {
   "codemirror_mode": {
    "name": "ipython",
    "version": 3
   },
   "file_extension": ".py",
   "mimetype": "text/x-python",
   "name": "python",
   "nbconvert_exporter": "python",
   "pygments_lexer": "ipython3",
   "version": "3.9.0"
  }
 },
 "nbformat": 4,
 "nbformat_minor": 0
}
